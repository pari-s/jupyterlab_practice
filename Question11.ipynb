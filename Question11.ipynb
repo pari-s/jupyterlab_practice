{
 "cells": [
  {
   "cell_type": "markdown",
   "id": "2c9ea136-078b-47dc-86f2-3688dea74f5e",
   "metadata": {},
   "source": [
    "# Parinaz Setayeshgar\n",
    "Notebook for assignment 7"
   ]
  },
  {
   "cell_type": "code",
   "execution_count": 1,
   "id": "7b672cf3-1224-4dcd-9b2b-4adc488dd10c",
   "metadata": {},
   "outputs": [
    {
     "name": "stdout",
     "output_type": "stream",
     "text": [
      "5.0\n"
     ]
    }
   ],
   "source": [
    "def compute_mean(values):\n",
    "    return sum(values)/len(values)\n",
    "\n",
    "# call the function\n",
    "print(compute_mean([2,4,6,8]))"
   ]
  },
  {
   "cell_type": "markdown",
   "id": "6954e93e-e9c5-411d-805b-3a2da97a302e",
   "metadata": {},
   "source": [
    "This code defines a function `compute_mean` that calculates the airithmetic mean of the values in alist.\n",
    "It works by summing all the numbers and dividing by the number of items.\n",
    "\n",
    "The formula for the mean can be in two ways using LaTex:\n",
    "$\\bar{x}=\\frac{\\sum_{i=1}^{n} x}{n}=$ $$\\frac{x_1+x_2+\\cdots+x_n}{n}$$"
   ]
  },
  {
   "cell_type": "code",
   "execution_count": null,
   "id": "f17cb09e-e76a-4579-96f4-2cbd5b251bb4",
   "metadata": {},
   "outputs": [],
   "source": []
  }
 ],
 "metadata": {
  "kernelspec": {
   "display_name": "Python [conda env:anaconda3]",
   "language": "python",
   "name": "conda-env-anaconda3-py"
  },
  "language_info": {
   "codemirror_mode": {
    "name": "ipython",
    "version": 3
   },
   "file_extension": ".py",
   "mimetype": "text/x-python",
   "name": "python",
   "nbconvert_exporter": "python",
   "pygments_lexer": "ipython3",
   "version": "3.12.3"
  }
 },
 "nbformat": 4,
 "nbformat_minor": 5
}
